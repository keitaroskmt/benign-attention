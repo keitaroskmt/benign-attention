{
 "cells": [
  {
   "cell_type": "code",
   "execution_count": 3,
   "metadata": {},
   "outputs": [],
   "source": [
    "import numpy as np"
   ]
  },
  {
   "cell_type": "code",
   "execution_count": 4,
   "metadata": {},
   "outputs": [],
   "source": [
    "seed = 42"
   ]
  },
  {
   "cell_type": "code",
   "execution_count": 8,
   "metadata": {},
   "outputs": [
    {
     "name": "stdout",
     "output_type": "stream",
     "text": [
      "[[ 0.49671415 -0.1382643 ]\n",
      " [ 0.64768854  1.52302986]\n",
      " [-0.23415337 -0.23413696]]\n",
      "[[ 1.57921282  0.76743473]\n",
      " [-0.46947439  0.54256004]\n",
      " [-0.46341769 -0.46572975]]\n",
      "[[ 0.24196227 -1.91328024]\n",
      " [-1.72491783 -0.56228753]\n",
      " [-1.01283112  0.31424733]]\n"
     ]
    }
   ],
   "source": [
    "np.random.seed(seed)\n",
    "for i in range(3):\n",
    "    data = np.random.randn(3, 2)\n",
    "    print(data)"
   ]
  },
  {
   "cell_type": "code",
   "execution_count": 9,
   "metadata": {},
   "outputs": [
    {
     "name": "stdout",
     "output_type": "stream",
     "text": [
      "[[ 0.49671415 -0.1382643 ]\n",
      " [ 0.64768854  1.52302986]\n",
      " [-0.23415337 -0.23413696]]\n",
      "[[ 1.57921282  0.76743473]\n",
      " [-0.46947439  0.54256004]\n",
      " [-0.46341769 -0.46572975]]\n",
      "[[ 0.24196227 -1.91328024]\n",
      " [-1.72491783 -0.56228753]\n",
      " [-1.01283112  0.31424733]]\n"
     ]
    }
   ],
   "source": [
    "np.random.seed(seed)\n",
    "for i in range(3):\n",
    "    data = np.random.randn(3, 2)\n",
    "    print(data)"
   ]
  },
  {
   "cell_type": "code",
   "execution_count": 10,
   "metadata": {},
   "outputs": [
    {
     "name": "stdout",
     "output_type": "stream",
     "text": [
      "[[ 0.30471708 -1.03998411]\n",
      " [ 0.7504512   0.94056472]\n",
      " [-1.95103519 -1.30217951]]\n",
      "[[ 0.1278404  -0.31624259]\n",
      " [-0.01680116 -0.85304393]\n",
      " [ 0.87939797  0.77779194]]\n",
      "[[ 0.0660307   1.12724121]\n",
      " [ 0.46750934 -0.85929246]\n",
      " [ 0.36875078 -0.9588826 ]]\n"
     ]
    }
   ],
   "source": [
    "rng = np.random.default_rng(seed)\n",
    "for i in range(3):\n",
    "    data = rng.standard_normal((3, 2))\n",
    "    print(data)"
   ]
  },
  {
   "cell_type": "code",
   "execution_count": 11,
   "metadata": {},
   "outputs": [
    {
     "name": "stdout",
     "output_type": "stream",
     "text": [
      "[[ 0.30471708 -1.03998411]\n",
      " [ 0.7504512   0.94056472]\n",
      " [-1.95103519 -1.30217951]]\n",
      "[[ 0.1278404  -0.31624259]\n",
      " [-0.01680116 -0.85304393]\n",
      " [ 0.87939797  0.77779194]]\n",
      "[[ 0.0660307   1.12724121]\n",
      " [ 0.46750934 -0.85929246]\n",
      " [ 0.36875078 -0.9588826 ]]\n"
     ]
    }
   ],
   "source": [
    "rng = np.random.default_rng(seed)\n",
    "for i in range(3):\n",
    "    data = rng.standard_normal((3, 2))\n",
    "    print(data)"
   ]
  },
  {
   "cell_type": "code",
   "execution_count": null,
   "metadata": {},
   "outputs": [],
   "source": []
  }
 ],
 "metadata": {
  "kernelspec": {
   "display_name": ".venv",
   "language": "python",
   "name": "python3"
  },
  "language_info": {
   "codemirror_mode": {
    "name": "ipython",
    "version": 3
   },
   "file_extension": ".py",
   "mimetype": "text/x-python",
   "name": "python",
   "nbconvert_exporter": "python",
   "pygments_lexer": "ipython3",
   "version": "3.13.2"
  }
 },
 "nbformat": 4,
 "nbformat_minor": 2
}
